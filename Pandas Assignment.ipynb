{
 "cells": [
  {
   "cell_type": "code",
   "execution_count": 1,
   "id": "e40ff077",
   "metadata": {},
   "outputs": [
    {
     "name": "stdout",
     "output_type": "stream",
     "text": [
      "Requirement already satisfied: pandas in c:\\users\\hp\\anaconda3\\lib\\site-packages (1.2.4)\n",
      "Requirement already satisfied: numpy>=1.16.5 in c:\\users\\hp\\anaconda3\\lib\\site-packages (from pandas) (1.20.1)\n",
      "Requirement already satisfied: python-dateutil>=2.7.3 in c:\\users\\hp\\anaconda3\\lib\\site-packages (from pandas) (2.8.1)\n",
      "Requirement already satisfied: pytz>=2017.3 in c:\\users\\hp\\anaconda3\\lib\\site-packages (from pandas) (2021.1)\n",
      "Requirement already satisfied: six>=1.5 in c:\\users\\hp\\anaconda3\\lib\\site-packages (from python-dateutil>=2.7.3->pandas) (1.15.0)\n",
      "Note: you may need to restart the kernel to use updated packages.\n"
     ]
    }
   ],
   "source": [
    "pip install pandas\n"
   ]
  },
  {
   "cell_type": "code",
   "execution_count": 2,
   "id": "29ebed99",
   "metadata": {},
   "outputs": [],
   "source": [
    "import pandas as pd\n"
   ]
  },
  {
   "cell_type": "code",
   "execution_count": 3,
   "id": "01b7e205",
   "metadata": {},
   "outputs": [],
   "source": [
    "alumni = pd.read_csv(\"./alumni.csv\")\n",
    "#alumni"
   ]
  },
  {
   "cell_type": "code",
   "execution_count": 4,
   "id": "4c9570eb",
   "metadata": {},
   "outputs": [],
   "source": [
    "#alumni.head()"
   ]
  },
  {
   "cell_type": "code",
   "execution_count": 5,
   "id": "6b27c2a2",
   "metadata": {},
   "outputs": [],
   "source": [
    "#alumni.tail()"
   ]
  },
  {
   "cell_type": "code",
   "execution_count": 6,
   "id": "21dbced4",
   "metadata": {},
   "outputs": [],
   "source": [
    "#alumni.dtypes"
   ]
  },
  {
   "cell_type": "code",
   "execution_count": 7,
   "id": "f02e92ad",
   "metadata": {},
   "outputs": [],
   "source": [
    "#alumni.info()"
   ]
  },
  {
   "cell_type": "code",
   "execution_count": 8,
   "id": "4ff8de47",
   "metadata": {},
   "outputs": [],
   "source": [
    "#alumni.describe()"
   ]
  },
  {
   "cell_type": "code",
   "execution_count": 9,
   "id": "65b8f24e",
   "metadata": {},
   "outputs": [],
   "source": [
    "alumni['Savings']= alumni['Savings ($)']\n",
    "\n",
    "\n"
   ]
  },
  {
   "cell_type": "code",
   "execution_count": 10,
   "id": "a4127969",
   "metadata": {},
   "outputs": [
    {
     "name": "stderr",
     "output_type": "stream",
     "text": [
      "<ipython-input-10-876441ef5b4a>:1: FutureWarning: The default value of regex will change from True to False in a future version. In addition, single character regular expressions will*not* be treated as literal strings when regex=True.\n",
      "  alumni['Savings'] = alumni['Savings'].str.replace('$', '').replace(',','')\n"
     ]
    }
   ],
   "source": [
    "alumni['Savings'] = alumni['Savings'].str.replace('$', '').replace(',','')\n",
    "\n",
    "\n",
    "#alumni[\"Savings\"].apply(pd.to_numeric)\n"
   ]
  },
  {
   "cell_type": "code",
   "execution_count": 11,
   "id": "582959c4",
   "metadata": {},
   "outputs": [],
   "source": [
    "def clean_currency(Savings):\n",
    "    return float(Savings.replace(\",\", \"\").replace(\"$\", \"\"))\n",
    "\n",
    "#clean_currency(\"Savings\")"
   ]
  },
  {
   "cell_type": "code",
   "execution_count": 12,
   "id": "dd972b63",
   "metadata": {},
   "outputs": [],
   "source": [
    "#alumni[\"Gender\"].value_counts()"
   ]
  },
  {
   "cell_type": "code",
   "execution_count": 13,
   "id": "711c3a1b",
   "metadata": {},
   "outputs": [],
   "source": [
    "#alumni[\"Gender\"].replace(to_replace=r'^M.$', value='Male', regex=False)"
   ]
  },
  {
   "cell_type": "code",
   "execution_count": 14,
   "id": "8fd8b60c",
   "metadata": {},
   "outputs": [],
   "source": [
    "alumni.loc[84,1]=\"Male\"\n",
    "\n"
   ]
  },
  {
   "cell_type": "code",
   "execution_count": 15,
   "id": "18a53ecf",
   "metadata": {},
   "outputs": [
    {
     "data": {
      "text/plain": [
       "75000.0"
      ]
     },
     "execution_count": 15,
     "metadata": {},
     "output_type": "execute_result"
    }
   ],
   "source": [
    "alumni[\"Salary\"].median()\n"
   ]
  },
  {
   "cell_type": "code",
   "execution_count": 16,
   "id": "fb8ab94b",
   "metadata": {},
   "outputs": [
    {
     "data": {
      "text/plain": [
       "84090.90909090909"
      ]
     },
     "execution_count": 16,
     "metadata": {},
     "output_type": "execute_result"
    }
   ],
   "source": [
    "alumni[\"Salary\"].mean()\n"
   ]
  },
  {
   "cell_type": "code",
   "execution_count": 17,
   "id": "b17af10b",
   "metadata": {},
   "outputs": [
    {
     "data": {
      "text/plain": [
       "21234.128008173615"
      ]
     },
     "execution_count": 17,
     "metadata": {},
     "output_type": "execute_result"
    }
   ],
   "source": [
    "alumni[\"Salary\"].std()"
   ]
  },
  {
   "cell_type": "code",
   "execution_count": 18,
   "id": "423506d6",
   "metadata": {},
   "outputs": [
    {
     "data": {
      "text/html": [
       "<div>\n",
       "<style scoped>\n",
       "    .dataframe tbody tr th:only-of-type {\n",
       "        vertical-align: middle;\n",
       "    }\n",
       "\n",
       "    .dataframe tbody tr th {\n",
       "        vertical-align: top;\n",
       "    }\n",
       "\n",
       "    .dataframe thead th {\n",
       "        text-align: right;\n",
       "    }\n",
       "</style>\n",
       "<table border=\"1\" class=\"dataframe\">\n",
       "  <thead>\n",
       "    <tr style=\"text-align: right;\">\n",
       "      <th></th>\n",
       "      <th>Year Graduated</th>\n",
       "      <th>Gender</th>\n",
       "      <th>Marital Status</th>\n",
       "      <th>Diploma Type</th>\n",
       "      <th>Defaulted</th>\n",
       "      <th>Salary</th>\n",
       "      <th>Fee</th>\n",
       "      <th>Savings ($)</th>\n",
       "      <th>Savings</th>\n",
       "      <th>1</th>\n",
       "    </tr>\n",
       "  </thead>\n",
       "  <tbody>\n",
       "    <tr>\n",
       "      <th>18</th>\n",
       "      <td>2006</td>\n",
       "      <td>Male</td>\n",
       "      <td>Married</td>\n",
       "      <td>Standard Diploma</td>\n",
       "      <td>No</td>\n",
       "      <td>140000</td>\n",
       "      <td>20960</td>\n",
       "      <td>$72,000</td>\n",
       "      <td>72,000</td>\n",
       "      <td>NaN</td>\n",
       "    </tr>\n",
       "  </tbody>\n",
       "</table>\n",
       "</div>"
      ],
      "text/plain": [
       "    Year Graduated Gender Marital Status      Diploma Type Defaulted  Salary  \\\n",
       "18            2006   Male        Married  Standard Diploma        No  140000   \n",
       "\n",
       "      Fee Savings ($) Savings    1  \n",
       "18  20960     $72,000  72,000  NaN  "
      ]
     },
     "execution_count": 18,
     "metadata": {},
     "output_type": "execute_result"
    }
   ],
   "source": [
    "paid_above_15000 = alumni[alumni[\"Fee\"] >15000]\n",
    "paid_above_15000.head()"
   ]
  },
  {
   "cell_type": "code",
   "execution_count": 19,
   "id": "7ab0c02e",
   "metadata": {},
   "outputs": [
    {
     "data": {
      "text/plain": [
       "<AxesSubplot:>"
      ]
     },
     "execution_count": 19,
     "metadata": {},
     "output_type": "execute_result"
    },
    {
     "data": {
      "image/png": "[encoded data removed]",
      "text/plain": [
       "<Figure size 432x288 with 1 Axes>"
      ]
     },
     "metadata": {
      "needs_background": "light"
     },
     "output_type": "display_data"
    }
   ],
   "source": [
    "alumni['Diploma Type'].value_counts().plot(kind='bar')"
   ]
  },
  {
   "cell_type": "code",
   "execution_count": 20,
   "id": "1b796c97",
   "metadata": {},
   "outputs": [],
   "source": [
    "import matplotlib.pyplot as plt "
   ]
  },
  {
   "cell_type": "code",
   "execution_count": 21,
   "id": "9eb7f403",
   "metadata": {},
   "outputs": [],
   "source": [
    "#alumni.plot(x= \"Salary\", y=\"Savings\")"
   ]
  },
  {
   "cell_type": "code",
   "execution_count": 22,
   "id": "0ab02d52",
   "metadata": {},
   "outputs": [
    {
     "data": {
      "image/png": "[encoded data removed]",
      "text/plain": [
       "<Figure size 432x288 with 1 Axes>"
      ]
     },
     "metadata": {
      "needs_background": "light"
     },
     "output_type": "display_data"
    }
   ],
   "source": [
    "hist = alumni[\"Salary\"].hist(bins=12)\n",
    "              "
   ]
  },
  {
   "cell_type": "code",
   "execution_count": 23,
   "id": "6863ce01",
   "metadata": {},
   "outputs": [
    {
     "data": {
      "image/png": "[encoded data removed]",
      "text/plain": [
       "<Figure size 432x288 with 1 Axes>"
      ]
     },
     "metadata": {
      "needs_background": "light"
     },
     "output_type": "display_data"
    }
   ],
   "source": [
    "scatter_plot = alumni.plot.scatter(x='Salary', y='Savings',c='DarkBlue')"
   ]
  },
  {
   "cell_type": "code",
   "execution_count": 24,
   "id": "3729af5c",
   "metadata": {},
   "outputs": [
    {
     "data": {
      "text/html": [
       "<div>\n",
       "<style scoped>\n",
       "    .dataframe tbody tr th:only-of-type {\n",
       "        vertical-align: middle;\n",
       "    }\n",
       "\n",
       "    .dataframe tbody tr th {\n",
       "        vertical-align: top;\n",
       "    }\n",
       "\n",
       "    .dataframe thead th {\n",
       "        text-align: right;\n",
       "    }\n",
       "</style>\n",
       "<table border=\"1\" class=\"dataframe\">\n",
       "  <thead>\n",
       "    <tr style=\"text-align: right;\">\n",
       "      <th>Defaulted</th>\n",
       "      <th>No</th>\n",
       "      <th>Yes</th>\n",
       "    </tr>\n",
       "    <tr>\n",
       "      <th>Marital Status</th>\n",
       "      <th></th>\n",
       "      <th></th>\n",
       "    </tr>\n",
       "  </thead>\n",
       "  <tbody>\n",
       "    <tr>\n",
       "      <th>Divorced</th>\n",
       "      <td>8</td>\n",
       "      <td>11</td>\n",
       "    </tr>\n",
       "    <tr>\n",
       "      <th>Married</th>\n",
       "      <td>19</td>\n",
       "      <td>16</td>\n",
       "    </tr>\n",
       "    <tr>\n",
       "      <th>Single</th>\n",
       "      <td>9</td>\n",
       "      <td>25</td>\n",
       "    </tr>\n",
       "  </tbody>\n",
       "</table>\n",
       "</div>"
      ],
      "text/plain": [
       "Defaulted       No  Yes\n",
       "Marital Status         \n",
       "Divorced         8   11\n",
       "Married         19   16\n",
       "Single           9   25"
      ]
     },
     "execution_count": 24,
     "metadata": {},
     "output_type": "execute_result"
    }
   ],
   "source": [
    "alumni_crosstab = pd.crosstab(alumni['Marital Status'],alumni['Defaulted'], \n",
    "                               margins = False)\n",
    "alumni_crosstab"
   ]
  },
  {
   "cell_type": "code",
   "execution_count": null,
   "id": "ee9a6b58",
   "metadata": {},
   "outputs": [],
   "source": []
  },
  {
   "cell_type": "code",
   "execution_count": null,
   "id": "ab3c9a1c",
   "metadata": {},
   "outputs": [],
   "source": []
  }
 ],
 "metadata": {
  "kernelspec": {
   "display_name": "Python 3",
   "language": "python",
   "name": "python3"
  },
  "language_info": {
   "codemirror_mode": {
    "name": "ipython",
    "version": 3
   },
   "file_extension": ".py",
   "mimetype": "text/x-python",
   "name": "python",
   "nbconvert_exporter": "python",
   "pygments_lexer": "ipython3",
   "version": "3.8.8"
  }
 },
 "nbformat": 4,
 "nbformat_minor": 5
}
